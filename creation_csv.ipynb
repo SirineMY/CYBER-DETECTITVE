{
 "cells": [
  {
   "cell_type": "code",
   "execution_count": 1,
   "id": "629144ef-3102-4d8e-bcf6-c90dcf45b097",
   "metadata": {},
   "outputs": [],
   "source": [
    "from bs4 import BeautifulSoup\n",
    "import requests \n",
    "from word2number import w2n\n",
    "import csv"
   ]
  },
  {
   "cell_type": "code",
   "execution_count": 2,
   "id": "0eeca611-703d-4af5-9ce2-41fb3dd4ead2",
   "metadata": {},
   "outputs": [
    {
     "name": "stdout",
     "output_type": "stream",
     "text": [
      "1000\n"
     ]
    }
   ],
   "source": [
    "links = []\n",
    "\n",
    "for i in range(51):\n",
    "    url = 'https://books.toscrape.com/catalogue/page-'+ str(i) +'.html'\n",
    "    res = requests.get(url)\n",
    "\n",
    "    if res.ok:\n",
    "        soup = BeautifulSoup(res.text, 'lxml' )\n",
    "        livre = soup.findAll('article')\n",
    "       \n",
    "        for li in livre:\n",
    "            a = li.find('a')\n",
    "            link = a['href']\n",
    "            links.append('https://books.toscrape.com/catalogue/'+link)\n",
    "        \n",
    "print(len(links))"
   ]
  },
  {
   "cell_type": "code",
   "execution_count": 3,
   "id": "7e780ce7-02e5-4d2e-adc6-7d57a0835416",
   "metadata": {},
   "outputs": [],
   "source": [
    "with open ('urls.txt', 'w') as file:\n",
    "    for link in links:\n",
    "        file.write(link+ '\\n')\n",
    "        "
   ]
  },
  {
   "cell_type": "code",
   "execution_count": 4,
   "id": "1109eef6-0b30-4d62-ac97-a42b8662ff17",
   "metadata": {},
   "outputs": [],
   "source": [
    "import pandas as pd\n",
    "import numpy as np\n",
    "with open('urls.txt','r') as file:\n",
    "    df1 = pd.DataFrame(columns=['titre', 'prix', 'disponibilites', 'image', 'rating'])\n",
    "                     \n",
    "    for row in file:\n",
    "        url = row.strip()\n",
    "        response = requests.get(url)\n",
    "        if response.ok:\n",
    "            soup = BeautifulSoup(response.text, 'lxml')\n",
    "            titre = soup.find('h1').text\n",
    "            #print(titre)\n",
    "            \n",
    "            Prix = soup.select('.table > tr:nth-child(3) > td')\n",
    "            for prix in Prix:\n",
    "                prix = prix.text[2:]\n",
    "                #print(prix)\n",
    "                \n",
    "            Dispo = soup.select('.table > tr:nth-child(6) > td')\n",
    "            for dispo in Dispo:\n",
    "                dispo = dispo.text\n",
    "                #print(dispo)\n",
    "                \n",
    "            image = soup.img\n",
    "            img = image.get('src')\n",
    "            #print(img)\n",
    "            \n",
    "            rating = soup.select_one('p.star-rating')\n",
    "            rating= rating['class'][-1]\n",
    "            rating = w2n.word_to_num(rating.lower()) \n",
    "\n",
    "            #print(rating)\n",
    "                \n",
    "            df_new_row = pd.DataFrame(data=np.array([[titre , prix , dispo , img , rating]]), columns=['titre', 'prix', 'disponibilites', 'image', 'rating'])\n",
    "            df1 = pd.concat([df1,df_new_row], ignore_index=True)\n",
    "                \n",
    "                \n"
   ]
  },
  {
   "cell_type": "code",
   "execution_count": 8,
   "id": "81ab9022-bb39-4505-b4df-17770d828fc4",
   "metadata": {},
   "outputs": [],
   "source": [
    "df1.to_csv(\"data_livre.csv\", index=False)"
   ]
  },
  {
   "cell_type": "code",
   "execution_count": 6,
   "id": "dcce6908-a2d0-414e-b943-900526384cf4",
   "metadata": {},
   "outputs": [
    {
     "name": "stdout",
     "output_type": "stream",
     "text": [
      "A Light in the Attic\n",
      "51.77\n",
      "In stock (22 available)\n",
      "../../media/cache/fe/72/fe72f0532301ec28892ae79a629a293c.jpg\n",
      "3\n"
     ]
    }
   ],
   "source": [
    "url = 'https://books.toscrape.com/catalogue/a-light-in-the-attic_1000/index.html'\n",
    "response = requests.get(url)\n",
    "with open('test.csv', 'w', newline='') as csvfile:\n",
    "    writer = csv.writer(csvfile, delimiter=',')\n",
    "    writer.writerow(['titre', 'prix', 'disponibilites', 'image', 'rating'])     \n",
    "    if response.ok:\n",
    "        soup = BeautifulSoup(response.content , 'html.parser')\n",
    "        titre = soup.find('h1').text\n",
    "        print(titre)\n",
    "        Prix = soup.select('.table > tr:nth-child(3) > td')\n",
    "        for prix in Prix:\n",
    "            prix = prix.text[1:]\n",
    "            print(prix)\n",
    "    \n",
    "        Dispo = soup.select('.table > tr:nth-child(6) > td')\n",
    "        for dispo in Dispo:\n",
    "            print(dispo.text)\n",
    "        image = soup.img\n",
    "        img = image.get('src')\n",
    "        print(img)\n",
    "        rating = soup.select_one('p.star-rating')\n",
    "        rating= rating['class'][-1]\n",
    "        rating = w2n.word_to_num(rating.lower()) \n",
    "\n",
    "        print(rating)\n",
    "        writer.writerow([titre , prix ,dispo.text , img , rating])"
   ]
  },
  {
   "cell_type": "code",
   "execution_count": null,
   "id": "c083e4a9-989e-40e8-aa81-9752dfedef57",
   "metadata": {},
   "outputs": [],
   "source": []
  },
  {
   "cell_type": "code",
   "execution_count": 7,
   "id": "2bac05b8-bd2a-4899-bc5e-33177abaf69e",
   "metadata": {},
   "outputs": [],
   "source": [
    "#content_inner > article > div.row > div.col-sm-6.product_main > p.star-rating.One"
   ]
  }
 ],
 "metadata": {
  "kernelspec": {
   "display_name": "Python 3 (ipykernel)",
   "language": "python",
   "name": "python3"
  },
  "language_info": {
   "codemirror_mode": {
    "name": "ipython",
    "version": 3
   },
   "file_extension": ".py",
   "mimetype": "text/x-python",
   "name": "python",
   "nbconvert_exporter": "python",
   "pygments_lexer": "ipython3",
   "version": "3.9.12"
  }
 },
 "nbformat": 4,
 "nbformat_minor": 5
}
